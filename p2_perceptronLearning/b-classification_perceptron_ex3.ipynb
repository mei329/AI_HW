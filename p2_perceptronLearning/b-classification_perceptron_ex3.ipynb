{
 "cells": [
  {
   "cell_type": "code",
   "execution_count": null,
   "id": "16229a1d",
   "metadata": {},
   "outputs": [],
   "source": [
    "import matplotlib.pyplot as plt\n",
    "import numpy as np\n",
    "import pandas as pd\n",
    "import seaborn as sns\n",
    "from sklearn import metrics\n",
    "from sklearn.preprocessing import MinMaxScaler\n",
    "from sklearn.preprocessing import StandardScaler\n",
    "from sklearn.linear_model import Perceptron\n",
    "from sklearn.model_selection import train_test_split\n",
    "#%matplotlib inline"
   ]
  },
  {
   "cell_type": "code",
   "execution_count": null,
   "id": "e9ad1f0e",
   "metadata": {},
   "outputs": [],
   "source": [
    "rs = 2 #10"
   ]
  },
  {
   "cell_type": "markdown",
   "id": "6fb19beb",
   "metadata": {},
   "source": [
    "# Load a dataset"
   ]
  },
  {
   "cell_type": "code",
   "execution_count": null,
   "id": "a8a5af2b",
   "metadata": {},
   "outputs": [],
   "source": [
    "# import a dataset\n",
    "df = pd.read_csv(\"./task/training.csv\")"
   ]
  },
  {
   "cell_type": "markdown",
   "id": "552ed407",
   "metadata": {},
   "source": [
    "# Exploratory Data Analysis (EDA)"
   ]
  },
  {
   "cell_type": "code",
   "execution_count": null,
   "id": "d6a385c1",
   "metadata": {},
   "outputs": [],
   "source": [
    "type(df)"
   ]
  },
  {
   "cell_type": "code",
   "execution_count": null,
   "id": "cd0db1f9",
   "metadata": {},
   "outputs": [],
   "source": [
    "df.sample(5)"
   ]
  },
  {
   "cell_type": "code",
   "execution_count": null,
   "id": "fac2c440",
   "metadata": {},
   "outputs": [],
   "source": [
    "df.shape"
   ]
  },
  {
   "cell_type": "code",
   "execution_count": null,
   "id": "de9e98d5",
   "metadata": {},
   "outputs": [],
   "source": [
    "df.dtypes"
   ]
  },
  {
   "cell_type": "code",
   "execution_count": null,
   "id": "e256bc68",
   "metadata": {},
   "outputs": [],
   "source": [
    "df['target'].value_counts()"
   ]
  },
  {
   "cell_type": "code",
   "execution_count": null,
   "id": "a003e9ae",
   "metadata": {},
   "outputs": [],
   "source": [
    "df.describe(exclude=['int64'])"
   ]
  },
  {
   "cell_type": "code",
   "execution_count": null,
   "id": "5dd6535a",
   "metadata": {
    "scrolled": true
   },
   "outputs": [],
   "source": [
    "pd.DataFrame(df.groupby(by=['target']).describe()).stack().unstack(0)"
   ]
  },
  {
   "cell_type": "code",
   "execution_count": null,
   "id": "9a152317",
   "metadata": {},
   "outputs": [],
   "source": [
    "sns.set_theme(style=\"ticks\")\n",
    "sns.pairplot(df, corner=True, diag_kind=\"hist\", hue=\"target\")"
   ]
  },
  {
   "cell_type": "markdown",
   "id": "1e96cd27",
   "metadata": {},
   "source": [
    "# Training"
   ]
  },
  {
   "cell_type": "markdown",
   "id": "1b74febc",
   "metadata": {},
   "source": [
    "### Training dataset"
   ]
  },
  {
   "cell_type": "code",
   "execution_count": null,
   "id": "4eb357f3",
   "metadata": {},
   "outputs": [],
   "source": [
    "print(df.columns)"
   ]
  },
  {
   "cell_type": "code",
   "execution_count": null,
   "id": "a92d2162",
   "metadata": {},
   "outputs": [],
   "source": [
    "#X = df.iloc[:,0:2] #X = df.iloc[:,:-1] #X = df.iloc[:,2:4]\n",
    "X = df.iloc[:,0:2]\n",
    "y = df.iloc[:,-1]"
   ]
  },
  {
   "cell_type": "markdown",
   "id": "866a40dd",
   "metadata": {},
   "source": [
    "### Normalization"
   ]
  },
  {
   "cell_type": "markdown",
   "id": "89ed4b3d",
   "metadata": {},
   "source": [
    "#### Min-Max Normalization"
   ]
  },
  {
   "cell_type": "code",
   "execution_count": null,
   "id": "13536637",
   "metadata": {},
   "outputs": [],
   "source": [
    "scaler = MinMaxScaler(feature_range=(0, 1)).fit(X) \n",
    "print(scaler.data_min_)\n",
    "print(scaler.data_max_)\n",
    "X_scaled = scaler.transform(X) \n",
    "#print(X_scaled)"
   ]
  },
  {
   "cell_type": "code",
   "execution_count": null,
   "id": "cf090bec",
   "metadata": {},
   "outputs": [],
   "source": [
    "# scaled \n",
    "print('(scaled) max: ', X_scaled.max(axis=0))\n",
    "print('(scaled) min: ', X_scaled.min(axis=0))"
   ]
  },
  {
   "cell_type": "markdown",
   "id": "09ba11b4",
   "metadata": {},
   "source": [
    "#### Z-score Normalization"
   ]
  },
  {
   "cell_type": "markdown",
   "id": "1e72ee19",
   "metadata": {},
   "source": [
    "scaler = StandardScaler().fit(X) \n",
    "print(scaler.mean_)\n",
    "print(np.sqrt(scaler.var_))\n",
    "X_scaled = scaler.transform(X)"
   ]
  },
  {
   "cell_type": "markdown",
   "id": "1c5c20a6",
   "metadata": {},
   "source": [
    "# scaled \n",
    "print('(scaled) mean: ', np.round(X_scaled.mean(axis=0),5))\n",
    "print('(scaled) sd: ', X_scaled.std(axis=0))"
   ]
  },
  {
   "cell_type": "code",
   "execution_count": null,
   "id": "1c34569d",
   "metadata": {},
   "outputs": [],
   "source": [
    "X_train, X_test, y_train, y_test = train_test_split(X,y, test_size=0.4, random_state=rs)"
   ]
  },
  {
   "cell_type": "code",
   "execution_count": null,
   "id": "742e7204",
   "metadata": {},
   "outputs": [],
   "source": [
    "#X_train, X_test, y_train, y_test = train_test_split(X_scaled,y, test_size=0.4, random_state=rs)"
   ]
  },
  {
   "cell_type": "code",
   "execution_count": null,
   "id": "0ef637ad",
   "metadata": {},
   "outputs": [],
   "source": [
    "X_train.shape"
   ]
  },
  {
   "cell_type": "code",
   "execution_count": null,
   "id": "71cf7f39",
   "metadata": {},
   "outputs": [],
   "source": [
    "y_train.value_counts()"
   ]
  },
  {
   "cell_type": "code",
   "execution_count": null,
   "id": "18d93159",
   "metadata": {},
   "outputs": [],
   "source": [
    "X_test.shape"
   ]
  },
  {
   "cell_type": "code",
   "execution_count": null,
   "id": "cac42d65",
   "metadata": {},
   "outputs": [],
   "source": [
    "y_test.value_counts()"
   ]
  },
  {
   "cell_type": "markdown",
   "id": "aaf1d16c",
   "metadata": {},
   "source": [
    "### Perceptron learning"
   ]
  },
  {
   "cell_type": "code",
   "execution_count": null,
   "id": "f3bfb8ae",
   "metadata": {},
   "outputs": [],
   "source": [
    "# initialization\n",
    "model_per = Perceptron()\n",
    "# optimization\n",
    "model_per.fit(X_train, y_train)"
   ]
  },
  {
   "cell_type": "code",
   "execution_count": null,
   "id": "892b3142",
   "metadata": {},
   "outputs": [],
   "source": [
    "# training: performance\n",
    "y_pred_train = model_per.predict(X_train)\n",
    "print(np.round(metrics.accuracy_score(y_pred_train, y_train),5))"
   ]
  },
  {
   "cell_type": "code",
   "execution_count": null,
   "id": "a7b54abd",
   "metadata": {},
   "outputs": [],
   "source": [
    "# testing: performance\n",
    "y_pred_test = model_per.predict(X_test)\n",
    "print(np.round(metrics.accuracy_score(y_pred_test, y_test),5))"
   ]
  },
  {
   "cell_type": "markdown",
   "id": "9d180ed2",
   "metadata": {},
   "source": [
    "### Decision boundary"
   ]
  },
  {
   "cell_type": "code",
   "execution_count": null,
   "id": "c5913677",
   "metadata": {},
   "outputs": [],
   "source": [
    "w = model_per.coef_[0]\n",
    "#print(w)"
   ]
  },
  {
   "cell_type": "code",
   "execution_count": null,
   "id": "00bc803a",
   "metadata": {},
   "outputs": [],
   "source": [
    "w0 = model_per.intercept_\n",
    "#print(w0)"
   ]
  },
  {
   "cell_type": "code",
   "execution_count": null,
   "id": "c67fb8f9",
   "metadata": {
    "scrolled": true
   },
   "outputs": [],
   "source": [
    "if len(w) == 2:\n",
    "    x_ticks = np.linspace(min(X.iloc[:,0]),max(X.iloc[:,0]),10)\n",
    "    ax = plt.subplot(1,1,1)\n",
    "    ax.set_xticks(x_ticks)\n",
    "    ax.set_xlim(min(X.iloc[:,0]),max(X.iloc[:,0]))\n",
    "    ax.set_ylim(min(X.iloc[:,1]),max(X.iloc[:,1]))\n",
    "    ax.set_xlabel(X.columns[0])\n",
    "    ax.set_ylabel(X.columns[1])\n",
    "    plt.scatter(X.iloc[:50,0],X.iloc[:50,1],label='0')\n",
    "    plt.scatter(X.iloc[50:,0],X.iloc[50:,1],label='1')\n",
    "    plt.plot(x_ticks, (w[0]*x_ticks + w0)/(-w[1]))\n",
    "    plt.legend(loc = 'best')"
   ]
  },
  {
   "cell_type": "markdown",
   "id": "3fa2758d",
   "metadata": {},
   "source": [
    "### Scaled"
   ]
  },
  {
   "cell_type": "code",
   "execution_count": null,
   "id": "c3731b4b",
   "metadata": {},
   "outputs": [],
   "source": [
    "if len(w) == 2:\n",
    "    x_ticks = np.linspace(min(X_scaled[:,0]),max(X_scaled[:,0]),10)\n",
    "    ax.set_xticks(x_ticks)\n",
    "    ax.set_xlim(min(X_scaled[:,0]),max(X_scaled[:,0]))\n",
    "    ax.set_ylim(min(X_scaled[:,1]),max(X_scaled[:,1]))\n",
    "    ax.set_xlabel(X.columns[0])\n",
    "    ax.set_ylabel(X.columns[1])\n",
    "    plt.scatter(X_scaled[:50,0],X_scaled[:50,1],label='0')\n",
    "    plt.scatter(X_scaled[50:,0],X_scaled[50:,1],label='1')\n",
    "    plt.plot(x_ticks, (w[0]*x_ticks + w0)/(-w[1]))\n",
    "    plt.legend(loc = 'best')"
   ]
  },
  {
   "cell_type": "code",
   "execution_count": null,
   "id": "398661dc",
   "metadata": {},
   "outputs": [],
   "source": []
  }
 ],
 "metadata": {
  "kernelspec": {
   "display_name": "Python 3",
   "language": "python",
   "name": "python3"
  },
  "language_info": {
   "codemirror_mode": {
    "name": "ipython",
    "version": 3
   },
   "file_extension": ".py",
   "mimetype": "text/x-python",
   "name": "python",
   "nbconvert_exporter": "python",
   "pygments_lexer": "ipython3",
   "version": "3.7.3"
  }
 },
 "nbformat": 4,
 "nbformat_minor": 5
}
